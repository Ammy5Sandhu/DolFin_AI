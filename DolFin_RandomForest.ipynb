{
 "cells": [
  {
   "cell_type": "code",
   "execution_count": 122,
   "id": "89230494",
   "metadata": {},
   "outputs": [],
   "source": [
    "#Random Forest Regression Model."
   ]
  },
  {
   "cell_type": "code",
   "execution_count": 123,
   "id": "2fc9315c",
   "metadata": {},
   "outputs": [],
   "source": [
    "# IMPORT REQUIRED LIBRARIES"
   ]
  },
  {
   "cell_type": "code",
   "execution_count": 124,
   "id": "e72dcad6",
   "metadata": {},
   "outputs": [],
   "source": [
    "import pandas as pd\n",
    "import numpy as np\n",
    "import matplotlib.pyplot as plt\n",
    "from sklearn.ensemble import RandomForestRegressor\n",
    "from sklearn.preprocessing import StandardScaler\n",
    "from sklearn.metrics import mean_squared_error, mean_absolute_error, r2_score"
   ]
  },
  {
   "cell_type": "code",
   "execution_count": 125,
   "id": "dbfb974a",
   "metadata": {},
   "outputs": [],
   "source": [
    "# Data LOADING"
   ]
  },
  {
   "cell_type": "code",
   "execution_count": 126,
   "id": "8b745888",
   "metadata": {},
   "outputs": [],
   "source": [
    "datset_path = r\"D:\\DolFIn\\datasetTransactionAPI.csv\""
   ]
  },
  {
   "cell_type": "code",
   "execution_count": 127,
   "id": "f0335abb",
   "metadata": {},
   "outputs": [],
   "source": [
    "def getSampleData():\n",
    "    return pd.read_csv(datset_path)\n",
    "datsetRF = getSampleData()"
   ]
  },
  {
   "cell_type": "code",
   "execution_count": 128,
   "id": "0c3898b5",
   "metadata": {},
   "outputs": [],
   "source": [
    "#CHECK DATASET DETAILS"
   ]
  },
  {
   "cell_type": "code",
   "execution_count": 129,
   "id": "d3d35522",
   "metadata": {},
   "outputs": [
    {
     "name": "stdout",
     "output_type": "stream",
     "text": [
      "(289, 16)\n"
     ]
    }
   ],
   "source": [
    "print(datasetRF.shape) # dimensions of dataset"
   ]
  },
  {
   "cell_type": "code",
   "execution_count": 130,
   "id": "7385a562",
   "metadata": {},
   "outputs": [
    {
     "data": {
      "text/html": [
       "<div>\n",
       "<style scoped>\n",
       "    .dataframe tbody tr th:only-of-type {\n",
       "        vertical-align: middle;\n",
       "    }\n",
       "\n",
       "    .dataframe tbody tr th {\n",
       "        vertical-align: top;\n",
       "    }\n",
       "\n",
       "    .dataframe thead th {\n",
       "        text-align: right;\n",
       "    }\n",
       "</style>\n",
       "<table border=\"1\" class=\"dataframe\">\n",
       "  <thead>\n",
       "    <tr style=\"text-align: right;\">\n",
       "      <th></th>\n",
       "      <th>type</th>\n",
       "      <th>id</th>\n",
       "      <th>status</th>\n",
       "      <th>description</th>\n",
       "      <th>amount</th>\n",
       "      <th>account</th>\n",
       "      <th>balance</th>\n",
       "      <th>direction</th>\n",
       "      <th>class</th>\n",
       "      <th>institution</th>\n",
       "      <th>connection</th>\n",
       "      <th>enrich</th>\n",
       "      <th>transactionDate</th>\n",
       "      <th>postDate</th>\n",
       "      <th>subClass</th>\n",
       "      <th>links</th>\n",
       "    </tr>\n",
       "  </thead>\n",
       "  <tbody>\n",
       "    <tr>\n",
       "      <th>0</th>\n",
       "      <td>transaction</td>\n",
       "      <td>4957bcf6-f18f-43d7-94df-71f44a0bcf32</td>\n",
       "      <td>posted</td>\n",
       "      <td>Wdl ATM WES IGA BALGOWLAH HGT  BALGOWL        AU</td>\n",
       "      <td>-200.0</td>\n",
       "      <td>d3de1ca1</td>\n",
       "      <td>22109.56</td>\n",
       "      <td>debit</td>\n",
       "      <td>cash-withdrawal</td>\n",
       "      <td>AU00000</td>\n",
       "      <td>1bd6c08e-8457-4a74-bdd9-514df489d27e</td>\n",
       "      <td>NaN</td>\n",
       "      <td>3/08/2023</td>\n",
       "      <td>2023-08-03T00:07:36</td>\n",
       "      <td>NaN</td>\n",
       "      <td>{\"account\":\"https://au-api.basiq.io/users/6a52...</td>\n",
       "    </tr>\n",
       "    <tr>\n",
       "      <th>1</th>\n",
       "      <td>transaction</td>\n",
       "      <td>0d6e11ab-e28e-4de0-a152-600cc44fb61c</td>\n",
       "      <td>posted</td>\n",
       "      <td>Non Hooli ATM Withdrawal Fee</td>\n",
       "      <td>-2.5</td>\n",
       "      <td>070c1d68-0ee0-477a-9679-294ea7059939</td>\n",
       "      <td>22309.56</td>\n",
       "      <td>debit</td>\n",
       "      <td>bank-fee</td>\n",
       "      <td>AU00000</td>\n",
       "      <td>1bd6c08e-8457-4a74-bdd9-514df489d27e</td>\n",
       "      <td>NaN</td>\n",
       "      <td>3/08/2023</td>\n",
       "      <td>2023-08-03T00:00:00Z</td>\n",
       "      <td>{\\title\\\":\\\"\\\"</td>\n",
       "      <td>\\\"code\\\":\\\"card\\\"}\"</td>\n",
       "    </tr>\n",
       "    <tr>\n",
       "      <th>2</th>\n",
       "      <td>transaction</td>\n",
       "      <td>323f6d42-a38e-4c46-83d2-6c8f3e999686</td>\n",
       "      <td>posted</td>\n",
       "      <td>Wdl ATM WES IGA BALGOWLAH HGT  BALGOWL        AU</td>\n",
       "      <td>-200.0</td>\n",
       "      <td>070c1d68-0ee0-477a-9679-294ea7059939</td>\n",
       "      <td>22312.06</td>\n",
       "      <td>debit</td>\n",
       "      <td>cash-withdrawal</td>\n",
       "      <td>AU00000</td>\n",
       "      <td>1bd6c08e-8457-4a74-bdd9-514df489d27e</td>\n",
       "      <td>NaN</td>\n",
       "      <td>3/08/2023</td>\n",
       "      <td>2023-08-03T00:00:00Z</td>\n",
       "      <td>NaN</td>\n",
       "      <td>{\\self\\\":\\\"https://au-api.basiq.io/users/bca4b...</td>\n",
       "    </tr>\n",
       "    <tr>\n",
       "      <th>3</th>\n",
       "      <td>transaction</td>\n",
       "      <td>1ab3a3c5-faeb-4de3-b5aa-612e5bc76fd5</td>\n",
       "      <td>posted</td>\n",
       "      <td>Non Hooli ATM Withdrawal Fee</td>\n",
       "      <td>-2.5</td>\n",
       "      <td>070c1d68-0ee0-477a-9679-294ea7059939</td>\n",
       "      <td>22512.06</td>\n",
       "      <td>debit</td>\n",
       "      <td>bank-fee</td>\n",
       "      <td>AU00000</td>\n",
       "      <td>1bd6c08e-8457-4a74-bdd9-514df489d27e</td>\n",
       "      <td>NaN</td>\n",
       "      <td>3/08/2023</td>\n",
       "      <td>2023-08-03T00:00:00Z</td>\n",
       "      <td>{\\title\\\":\\\"\\\"</td>\n",
       "      <td>\\\"code\\\":\\\"card\\\"}\"</td>\n",
       "    </tr>\n",
       "    <tr>\n",
       "      <th>4</th>\n",
       "      <td>transaction</td>\n",
       "      <td>d12df6a2-48b6-4f5f-a718-ccb377aa330c</td>\n",
       "      <td>posted</td>\n",
       "      <td>Transfer Platnm Homeloan 346454</td>\n",
       "      <td>-3852.5</td>\n",
       "      <td>070c1d68-0ee0-477a-9679-294ea7059939</td>\n",
       "      <td>22514.56</td>\n",
       "      <td>debit</td>\n",
       "      <td>payment</td>\n",
       "      <td>AU00000</td>\n",
       "      <td>1bd6c08e-8457-4a74-bdd9-514df489d27e</td>\n",
       "      <td>NaN</td>\n",
       "      <td>29/07/2023</td>\n",
       "      <td>2023-07-29T00:00:00Z</td>\n",
       "      <td>{\\title\\\":\\\"Auxiliary Finance and Investment S...</td>\n",
       "      <td>\\\"code\\\":\\\"641\\\"}\"</td>\n",
       "    </tr>\n",
       "    <tr>\n",
       "      <th>5</th>\n",
       "      <td>transaction</td>\n",
       "      <td>08e6f7c9-f359-48f2-b086-a55f468f2f60</td>\n",
       "      <td>posted</td>\n",
       "      <td>TFR From Transaction to CC Acc 13</td>\n",
       "      <td>-9406.0</td>\n",
       "      <td>070c1d68-0ee0-477a-9679-294ea7059939</td>\n",
       "      <td>26367.06</td>\n",
       "      <td>debit</td>\n",
       "      <td>payment</td>\n",
       "      <td>AU00000</td>\n",
       "      <td>1bd6c08e-8457-4a74-bdd9-514df489d27e</td>\n",
       "      <td>NaN</td>\n",
       "      <td>28/07/2023</td>\n",
       "      <td>2023-07-28T00:00:00Z</td>\n",
       "      <td>{\\title\\\":\\\"Civic</td>\n",
       "      <td>Professional and Other Interest Group Services\\\"</td>\n",
       "    </tr>\n",
       "    <tr>\n",
       "      <th>6</th>\n",
       "      <td>transaction</td>\n",
       "      <td>53570fde-c731-4e33-8224-0583650eeaa7</td>\n",
       "      <td>posted</td>\n",
       "      <td>Payroll WFRMS 15439393</td>\n",
       "      <td>17098.0</td>\n",
       "      <td>070c1d68-0ee0-477a-9679-294ea7059939</td>\n",
       "      <td>35773.06</td>\n",
       "      <td>credit</td>\n",
       "      <td>transfer</td>\n",
       "      <td>AU00000</td>\n",
       "      <td>1bd6c08e-8457-4a74-bdd9-514df489d27e</td>\n",
       "      <td>NaN</td>\n",
       "      <td>28/07/2023</td>\n",
       "      <td>2023-07-28T00:00:00Z</td>\n",
       "      <td>{\\title\\\":\\\"Unknown\\\"</td>\n",
       "      <td>\\\"code\\\":\\\"0\\\"}\"</td>\n",
       "    </tr>\n",
       "    <tr>\n",
       "      <th>7</th>\n",
       "      <td>transaction</td>\n",
       "      <td>55dbdd71-9976-43ec-a724-7cf620d279d4</td>\n",
       "      <td>posted</td>\n",
       "      <td>Manly Maths Tutor Wages</td>\n",
       "      <td>201.0</td>\n",
       "      <td>070c1d68-0ee0-477a-9679-294ea7059939</td>\n",
       "      <td>18675.06</td>\n",
       "      <td>credit</td>\n",
       "      <td>transfer</td>\n",
       "      <td>AU00000</td>\n",
       "      <td>1bd6c08e-8457-4a74-bdd9-514df489d27e</td>\n",
       "      <td>NaN</td>\n",
       "      <td>17/07/2023</td>\n",
       "      <td>2023-07-17T00:00:00Z</td>\n",
       "      <td>{\\title\\\":\\\"Educational Support Services\\\"</td>\n",
       "      <td>\\\"code\\\":\\\"822\\\"}\"</td>\n",
       "    </tr>\n",
       "    <tr>\n",
       "      <th>8</th>\n",
       "      <td>transaction</td>\n",
       "      <td>17b710a5-da3d-42f8-ae31-f9d601f95c6d</td>\n",
       "      <td>posted</td>\n",
       "      <td>MANLY WEST SCHOOL</td>\n",
       "      <td>-1422.2</td>\n",
       "      <td>070c1d68-0ee0-477a-9679-294ea7059939</td>\n",
       "      <td>18474.06</td>\n",
       "      <td>debit</td>\n",
       "      <td>payment</td>\n",
       "      <td>AU00000</td>\n",
       "      <td>1bd6c08e-8457-4a74-bdd9-514df489d27e</td>\n",
       "      <td>NaN</td>\n",
       "      <td>16/07/2023</td>\n",
       "      <td>2023-07-16T00:00:00Z</td>\n",
       "      <td>{\\title\\\":\\\"School Education\\\"</td>\n",
       "      <td>\\\"code\\\":\\\"802\\\"}\"</td>\n",
       "    </tr>\n",
       "    <tr>\n",
       "      <th>9</th>\n",
       "      <td>transaction</td>\n",
       "      <td>d93fb495-8a7a-4997-8a16-b3581b778471</td>\n",
       "      <td>posted</td>\n",
       "      <td>MANLY WEST SCHOOL</td>\n",
       "      <td>-51.0</td>\n",
       "      <td>070c1d68-0ee0-477a-9679-294ea7059939</td>\n",
       "      <td>19896.26</td>\n",
       "      <td>debit</td>\n",
       "      <td>payment</td>\n",
       "      <td>AU00000</td>\n",
       "      <td>1bd6c08e-8457-4a74-bdd9-514df489d27e</td>\n",
       "      <td>NaN</td>\n",
       "      <td>16/07/2023</td>\n",
       "      <td>2023-07-16T00:00:00Z</td>\n",
       "      <td>{\\title\\\":\\\"School Education\\\"</td>\n",
       "      <td>\\\"code\\\":\\\"802\\\"}\"</td>\n",
       "    </tr>\n",
       "  </tbody>\n",
       "</table>\n",
       "</div>"
      ],
      "text/plain": [
       "          type                                    id  status  \\\n",
       "0  transaction  4957bcf6-f18f-43d7-94df-71f44a0bcf32  posted   \n",
       "1  transaction  0d6e11ab-e28e-4de0-a152-600cc44fb61c  posted   \n",
       "2  transaction  323f6d42-a38e-4c46-83d2-6c8f3e999686  posted   \n",
       "3  transaction  1ab3a3c5-faeb-4de3-b5aa-612e5bc76fd5  posted   \n",
       "4  transaction  d12df6a2-48b6-4f5f-a718-ccb377aa330c  posted   \n",
       "5  transaction  08e6f7c9-f359-48f2-b086-a55f468f2f60  posted   \n",
       "6  transaction  53570fde-c731-4e33-8224-0583650eeaa7  posted   \n",
       "7  transaction  55dbdd71-9976-43ec-a724-7cf620d279d4  posted   \n",
       "8  transaction  17b710a5-da3d-42f8-ae31-f9d601f95c6d  posted   \n",
       "9  transaction  d93fb495-8a7a-4997-8a16-b3581b778471  posted   \n",
       "\n",
       "                                        description   amount  \\\n",
       "0  Wdl ATM WES IGA BALGOWLAH HGT  BALGOWL        AU   -200.0   \n",
       "1                      Non Hooli ATM Withdrawal Fee     -2.5   \n",
       "2  Wdl ATM WES IGA BALGOWLAH HGT  BALGOWL        AU   -200.0   \n",
       "3                      Non Hooli ATM Withdrawal Fee     -2.5   \n",
       "4                   Transfer Platnm Homeloan 346454  -3852.5   \n",
       "5                 TFR From Transaction to CC Acc 13  -9406.0   \n",
       "6                            Payroll WFRMS 15439393  17098.0   \n",
       "7                           Manly Maths Tutor Wages    201.0   \n",
       "8                                 MANLY WEST SCHOOL  -1422.2   \n",
       "9                                 MANLY WEST SCHOOL    -51.0   \n",
       "\n",
       "                                account   balance direction            class  \\\n",
       "0                              d3de1ca1  22109.56     debit  cash-withdrawal   \n",
       "1  070c1d68-0ee0-477a-9679-294ea7059939  22309.56     debit         bank-fee   \n",
       "2  070c1d68-0ee0-477a-9679-294ea7059939  22312.06     debit  cash-withdrawal   \n",
       "3  070c1d68-0ee0-477a-9679-294ea7059939  22512.06     debit         bank-fee   \n",
       "4  070c1d68-0ee0-477a-9679-294ea7059939  22514.56     debit          payment   \n",
       "5  070c1d68-0ee0-477a-9679-294ea7059939  26367.06     debit          payment   \n",
       "6  070c1d68-0ee0-477a-9679-294ea7059939  35773.06    credit         transfer   \n",
       "7  070c1d68-0ee0-477a-9679-294ea7059939  18675.06    credit         transfer   \n",
       "8  070c1d68-0ee0-477a-9679-294ea7059939  18474.06     debit          payment   \n",
       "9  070c1d68-0ee0-477a-9679-294ea7059939  19896.26     debit          payment   \n",
       "\n",
       "  institution                            connection  enrich transactionDate  \\\n",
       "0     AU00000  1bd6c08e-8457-4a74-bdd9-514df489d27e     NaN       3/08/2023   \n",
       "1     AU00000  1bd6c08e-8457-4a74-bdd9-514df489d27e     NaN       3/08/2023   \n",
       "2     AU00000  1bd6c08e-8457-4a74-bdd9-514df489d27e     NaN       3/08/2023   \n",
       "3     AU00000  1bd6c08e-8457-4a74-bdd9-514df489d27e     NaN       3/08/2023   \n",
       "4     AU00000  1bd6c08e-8457-4a74-bdd9-514df489d27e     NaN      29/07/2023   \n",
       "5     AU00000  1bd6c08e-8457-4a74-bdd9-514df489d27e     NaN      28/07/2023   \n",
       "6     AU00000  1bd6c08e-8457-4a74-bdd9-514df489d27e     NaN      28/07/2023   \n",
       "7     AU00000  1bd6c08e-8457-4a74-bdd9-514df489d27e     NaN      17/07/2023   \n",
       "8     AU00000  1bd6c08e-8457-4a74-bdd9-514df489d27e     NaN      16/07/2023   \n",
       "9     AU00000  1bd6c08e-8457-4a74-bdd9-514df489d27e     NaN      16/07/2023   \n",
       "\n",
       "               postDate                                           subClass  \\\n",
       "0   2023-08-03T00:07:36                                                NaN   \n",
       "1  2023-08-03T00:00:00Z                                     {\\title\\\":\\\"\\\"   \n",
       "2  2023-08-03T00:00:00Z                                                NaN   \n",
       "3  2023-08-03T00:00:00Z                                     {\\title\\\":\\\"\\\"   \n",
       "4  2023-07-29T00:00:00Z  {\\title\\\":\\\"Auxiliary Finance and Investment S...   \n",
       "5  2023-07-28T00:00:00Z                                  {\\title\\\":\\\"Civic   \n",
       "6  2023-07-28T00:00:00Z                              {\\title\\\":\\\"Unknown\\\"   \n",
       "7  2023-07-17T00:00:00Z         {\\title\\\":\\\"Educational Support Services\\\"   \n",
       "8  2023-07-16T00:00:00Z                     {\\title\\\":\\\"School Education\\\"   \n",
       "9  2023-07-16T00:00:00Z                     {\\title\\\":\\\"School Education\\\"   \n",
       "\n",
       "                                               links  \n",
       "0  {\"account\":\"https://au-api.basiq.io/users/6a52...  \n",
       "1                                \\\"code\\\":\\\"card\\\"}\"  \n",
       "2  {\\self\\\":\\\"https://au-api.basiq.io/users/bca4b...  \n",
       "3                                \\\"code\\\":\\\"card\\\"}\"  \n",
       "4                                 \\\"code\\\":\\\"641\\\"}\"  \n",
       "5   Professional and Other Interest Group Services\\\"  \n",
       "6                                   \\\"code\\\":\\\"0\\\"}\"  \n",
       "7                                 \\\"code\\\":\\\"822\\\"}\"  \n",
       "8                                 \\\"code\\\":\\\"802\\\"}\"  \n",
       "9                                 \\\"code\\\":\\\"802\\\"}\"  "
      ]
     },
     "execution_count": 130,
     "metadata": {},
     "output_type": "execute_result"
    }
   ],
   "source": [
    "datasetRF.head(10)"
   ]
  },
  {
   "cell_type": "code",
   "execution_count": 131,
   "id": "2ff441d4",
   "metadata": {},
   "outputs": [
    {
     "name": "stdout",
     "output_type": "stream",
     "text": [
      "Index(['type', 'id', 'status', 'description', 'amount', 'account', 'balance',\n",
      "       'direction', 'class', 'institution', 'connection', 'enrich',\n",
      "       'transactionDate', 'postDate', 'subClass', 'links'],\n",
      "      dtype='object')\n"
     ]
    }
   ],
   "source": [
    "print(datasetRF.columns) #columns in dataset"
   ]
  },
  {
   "cell_type": "code",
   "execution_count": 132,
   "id": "362b669f",
   "metadata": {},
   "outputs": [],
   "source": [
    "# DATA PREPROCESSING"
   ]
  },
  {
   "cell_type": "code",
   "execution_count": 133,
   "id": "2f166fa8",
   "metadata": {},
   "outputs": [],
   "source": [
    "# Drop unwanted columns from the dataset\n",
    "clean = datasetRF.drop(['type', 'id', 'status', 'direction', 'connection', 'subClass', 'links', 'description', 'postDate', 'enrich', 'institution', 'account'], axis=1)"
   ]
  },
  {
   "cell_type": "code",
   "execution_count": 134,
   "id": "000092c1",
   "metadata": {},
   "outputs": [
    {
     "name": "stdout",
     "output_type": "stream",
     "text": [
      "Index(['amount', 'balance', 'class', 'transactionDate'], dtype='object')\n"
     ]
    }
   ],
   "source": [
    "print(clean.columns) # print columns in dataset after cleaning"
   ]
  },
  {
   "cell_type": "code",
   "execution_count": 135,
   "id": "4a9755a5",
   "metadata": {},
   "outputs": [
    {
     "data": {
      "text/html": [
       "<div>\n",
       "<style scoped>\n",
       "    .dataframe tbody tr th:only-of-type {\n",
       "        vertical-align: middle;\n",
       "    }\n",
       "\n",
       "    .dataframe tbody tr th {\n",
       "        vertical-align: top;\n",
       "    }\n",
       "\n",
       "    .dataframe thead th {\n",
       "        text-align: right;\n",
       "    }\n",
       "</style>\n",
       "<table border=\"1\" class=\"dataframe\">\n",
       "  <thead>\n",
       "    <tr style=\"text-align: right;\">\n",
       "      <th></th>\n",
       "      <th>amount</th>\n",
       "      <th>balance</th>\n",
       "      <th>class</th>\n",
       "      <th>transactionDate</th>\n",
       "    </tr>\n",
       "  </thead>\n",
       "  <tbody>\n",
       "    <tr>\n",
       "      <th>0</th>\n",
       "      <td>-200.0</td>\n",
       "      <td>22109.56</td>\n",
       "      <td>cash-withdrawal</td>\n",
       "      <td>3/08/2023</td>\n",
       "    </tr>\n",
       "    <tr>\n",
       "      <th>1</th>\n",
       "      <td>-2.5</td>\n",
       "      <td>22309.56</td>\n",
       "      <td>bank-fee</td>\n",
       "      <td>3/08/2023</td>\n",
       "    </tr>\n",
       "    <tr>\n",
       "      <th>2</th>\n",
       "      <td>-200.0</td>\n",
       "      <td>22312.06</td>\n",
       "      <td>cash-withdrawal</td>\n",
       "      <td>3/08/2023</td>\n",
       "    </tr>\n",
       "    <tr>\n",
       "      <th>3</th>\n",
       "      <td>-2.5</td>\n",
       "      <td>22512.06</td>\n",
       "      <td>bank-fee</td>\n",
       "      <td>3/08/2023</td>\n",
       "    </tr>\n",
       "    <tr>\n",
       "      <th>4</th>\n",
       "      <td>-3852.5</td>\n",
       "      <td>22514.56</td>\n",
       "      <td>payment</td>\n",
       "      <td>29/07/2023</td>\n",
       "    </tr>\n",
       "    <tr>\n",
       "      <th>5</th>\n",
       "      <td>-9406.0</td>\n",
       "      <td>26367.06</td>\n",
       "      <td>payment</td>\n",
       "      <td>28/07/2023</td>\n",
       "    </tr>\n",
       "    <tr>\n",
       "      <th>6</th>\n",
       "      <td>17098.0</td>\n",
       "      <td>35773.06</td>\n",
       "      <td>transfer</td>\n",
       "      <td>28/07/2023</td>\n",
       "    </tr>\n",
       "    <tr>\n",
       "      <th>7</th>\n",
       "      <td>201.0</td>\n",
       "      <td>18675.06</td>\n",
       "      <td>transfer</td>\n",
       "      <td>17/07/2023</td>\n",
       "    </tr>\n",
       "    <tr>\n",
       "      <th>8</th>\n",
       "      <td>-1422.2</td>\n",
       "      <td>18474.06</td>\n",
       "      <td>payment</td>\n",
       "      <td>16/07/2023</td>\n",
       "    </tr>\n",
       "    <tr>\n",
       "      <th>9</th>\n",
       "      <td>-51.0</td>\n",
       "      <td>19896.26</td>\n",
       "      <td>payment</td>\n",
       "      <td>16/07/2023</td>\n",
       "    </tr>\n",
       "  </tbody>\n",
       "</table>\n",
       "</div>"
      ],
      "text/plain": [
       "    amount   balance            class transactionDate\n",
       "0   -200.0  22109.56  cash-withdrawal       3/08/2023\n",
       "1     -2.5  22309.56         bank-fee       3/08/2023\n",
       "2   -200.0  22312.06  cash-withdrawal       3/08/2023\n",
       "3     -2.5  22512.06         bank-fee       3/08/2023\n",
       "4  -3852.5  22514.56          payment      29/07/2023\n",
       "5  -9406.0  26367.06          payment      28/07/2023\n",
       "6  17098.0  35773.06         transfer      28/07/2023\n",
       "7    201.0  18675.06         transfer      17/07/2023\n",
       "8  -1422.2  18474.06          payment      16/07/2023\n",
       "9    -51.0  19896.26          payment      16/07/2023"
      ]
     },
     "execution_count": 135,
     "metadata": {},
     "output_type": "execute_result"
    }
   ],
   "source": [
    "clean.head(10)"
   ]
  },
  {
   "cell_type": "code",
   "execution_count": 136,
   "id": "694d0bdd",
   "metadata": {},
   "outputs": [],
   "source": [
    "# Convert dates to timestamp\n",
    "datesAsTimestamp = pd.to_datetime(clean.pop('transactionDate'), format='%d/%m/%Y')\n",
    "datesAsTimestamp = datesAsTimestamp.map(pd.Timestamp.timestamp)"
   ]
  },
  {
   "cell_type": "code",
   "execution_count": 137,
   "id": "57a672f7",
   "metadata": {},
   "outputs": [],
   "source": [
    "# Extract day and year patterns from timestamp\n",
    "day = 24*60*60\n",
    "year = (365.2425)*day\n",
    "clean['Day sin'] = np.sin(datesAsTimestamp * (2 * np.pi / day))\n",
    "clean['Day cos'] = np.cos(datesAsTimestamp * (2 * np.pi / day))\n",
    "clean['Year sin'] = np.sin(datesAsTimestamp * (2 * np.pi / year))\n",
    "clean['Year cos'] = np.cos(datesAsTimestamp * (2 * np.pi / year))"
   ]
  },
  {
   "cell_type": "code",
   "execution_count": 138,
   "id": "7e4e4792",
   "metadata": {},
   "outputs": [],
   "source": [
    "# One hot encode the 'class' column\n",
    "clean = clean.join(pd.get_dummies(clean.pop('class')))"
   ]
  },
  {
   "cell_type": "code",
   "execution_count": 139,
   "id": "476f6920",
   "metadata": {},
   "outputs": [],
   "source": [
    "# Split data into train and validation sets\n",
    "train_fraction = 0.75\n",
    "n = len(clean)\n",
    "train_df = clean[:int(n*train_fraction)]\n",
    "val_df = clean[int(n*train_fraction):]"
   ]
  },
  {
   "cell_type": "code",
   "execution_count": 140,
   "id": "7ade0ed0",
   "metadata": {},
   "outputs": [],
   "source": [
    "# Split data into train and validation sets\n",
    "train_fraction = 0.75\n",
    "n = len(clean)\n",
    "train_df = clean[:int(n*train_fraction)]\n",
    "val_df = clean[int(n*train_fraction):]"
   ]
  },
  {
   "cell_type": "code",
   "execution_count": 141,
   "id": "6f7e839c",
   "metadata": {},
   "outputs": [],
   "source": [
    "# Prepare data for training\n",
    "X_train = train_df.drop('amount', axis=1)\n",
    "y_train = train_df['amount']\n",
    "X_val = val_df.drop('amount', axis=1)\n",
    "y_val = val_df['amount']"
   ]
  },
  {
   "cell_type": "code",
   "execution_count": 142,
   "id": "79ff6ed4",
   "metadata": {},
   "outputs": [],
   "source": [
    "# Train Random Forest Regressor\n",
    "rf_regressor = RandomForestRegressor(n_estimators=100)\n",
    "rf_regressor.fit(X_train, y_train)\n",
    "\n",
    "# Predict on validation set\n",
    "y_pred = rf_regressor.predict(X_val)"
   ]
  },
  {
   "cell_type": "code",
   "execution_count": 143,
   "id": "02556500",
   "metadata": {},
   "outputs": [],
   "source": [
    "# Calculate and print evaluation metrics\n",
    "mse = mean_squared_error(y_val, y_pred)\n",
    "mae = mean_absolute_error(y_val, y_pred)\n",
    "rmse = np.sqrt(mse)\n",
    "r2 = r2_score(y_val, y_pred)\n",
    "mape = np.mean(np.abs((y_val - y_pred) / y_val)) * 100"
   ]
  },
  {
   "cell_type": "code",
   "execution_count": 144,
   "id": "ca80243b",
   "metadata": {},
   "outputs": [
    {
     "name": "stdout",
     "output_type": "stream",
     "text": [
      "Mean Squared Error: 13671836.94\n",
      "Mean Absolute Error: 1525.93\n",
      "Root Mean Squared Error: 3697.54\n",
      "R-squared: 0.44\n",
      "Mean Absolute Percentage Error: 379.58%\n"
     ]
    }
   ],
   "source": [
    "print(f\"Mean Squared Error: {mse:.2f}\")\n",
    "print(f\"Mean Absolute Error: {mae:.2f}\")\n",
    "print(f\"Root Mean Squared Error: {rmse:.2f}\")\n",
    "print(f\"R-squared: {r2:.2f}\")\n",
    "print(f\"Mean Absolute Percentage Error: {mape:.2f}%\")"
   ]
  },
  {
   "cell_type": "code",
   "execution_count": 146,
   "id": "d4cbc122",
   "metadata": {},
   "outputs": [
    {
     "data": {
      "image/png": "[encoded data removed]",
      "text/plain": [
       "<Figure size 640x480 with 1 Axes>"
      ]
     },
     "metadata": {},
     "output_type": "display_data"
    }
   ],
   "source": [
    "# Plot residuals\n",
    "residuals = y_val - y_pred\n",
    "plt.scatter(y_pred, residuals)\n",
    "plt.axhline(0, color='red', linestyle='--')\n",
    "plt.xlabel('Predicted Values')\n",
    "plt.ylabel('Residuals')\n",
    "plt.title('Residual Plot')\n",
    "plt.show()"
   ]
  },
  {
   "cell_type": "code",
   "execution_count": null,
   "id": "901f60b4",
   "metadata": {},
   "outputs": [],
   "source": []
  }
 ],
 "metadata": {
  "kernelspec": {
   "display_name": "Python 3 (ipykernel)",
   "language": "python",
   "name": "python3"
  },
  "language_info": {
   "codemirror_mode": {
    "name": "ipython",
    "version": 3
   },
   "file_extension": ".py",
   "mimetype": "text/x-python",
   "name": "python",
   "nbconvert_exporter": "python",
   "pygments_lexer": "ipython3",
   "version": "3.11.3"
  }
 },
 "nbformat": 4,
 "nbformat_minor": 5
}
